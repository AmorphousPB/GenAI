import pandas as pd
df = pd.read_csv('../../top_rated_wines.csv')
df.head()
df.describe()
# Now let's create easy formatting for creating the embeddings
df.to_dict('records')
